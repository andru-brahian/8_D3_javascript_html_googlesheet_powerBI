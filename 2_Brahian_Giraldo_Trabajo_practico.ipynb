{
  "nbformat": 4,
  "nbformat_minor": 0,
  "metadata": {
    "colab": {
      "provenance": []
    },
    "kernelspec": {
      "name": "python3",
      "display_name": "Python 3"
    },
    "language_info": {
      "name": "python"
    }
  },
  "cells": [
    {
      "cell_type": "code",
      "execution_count": 16,
      "metadata": {
        "id": "vGiD6LL4S02i"
      },
      "outputs": [],
      "source": [
        "import pandas as pd\n",
        "import io\n",
        "import requests\n",
        "import seaborn as sns    # •Librería construida sobre Matplotlib que facilita la representación gráfica de datos simplificando las llamadas a las funciones y añade rutinas propias de trazado. •Acepta las estructuras de datos de Pandas. Buenas opciones sobre paletas de colores.\n",
        "import timeit\n",
        "import matplotlib.pyplot as plt"
      ]
    },
    {
      "cell_type": "code",
      "source": [
        "# https://raw.githubusercontent.com/andru-brahian/7_D3_javascript_html_googlesheet_powerBI/main/base_datos_diagrama_velas.json\n",
        "# https://github.com/andru-brahian/7_D3_javascript_html_googlesheet_powerBI/blob/main/base_datos_diagrama_velas.csv\n",
        "url=\"https://raw.githubusercontent.com/andru-brahian/7_D3_javascript_html_googlesheet_powerBI/main/base_datos_diagrama_velas.csv\"\n",
        "s=requests.get(url).content    #Cargamos el dataset de los pasajeros del Titanic\n",
        "#trading=pd.read_csv(io.StringIO(s.decode('utf-8')))\n",
        "# Cargar los datos usando el separador de punto y coma\n",
        "trading = pd.read_csv(url, sep=';')"
      ],
      "metadata": {
        "id": "ML3T3RJ_TLao"
      },
      "execution_count": 25,
      "outputs": []
    },
    {
      "cell_type": "markdown",
      "source": [
        "<h1>Exploración de los datos</h1>\n",
        "\n",
        "<p>\n",
        "Las variables que tienen 891, como non-null count, indica que no tienen nulos.\n",
        "\n",
        "supervivencia: Indica si el pasajero sobrevivió o no. Tiene dos categorías: 0 = No, 1 = Sí.\n",
        "\n",
        "pclass: Clase del boleto, que representa la categoría del ticket. Tiene tres valores: 1 = 1ra clase, 2 = 2da clase, 3 = 3ra clase.\n",
        "\n",
        "sex: Género del pasajero.\n",
        "\n",
        "age: Edad del pasajero en años.\n",
        "\n",
        "sibsp: Número de hermanos/cónyuges a bordo del\n",
        "\n",
        "Titanic.\n",
        "\n",
        "parch: Número de padres/hijos a bordo del Titanic.\n",
        "\n",
        "ticket: Número de ticket.\n",
        "\n",
        "fare: Tarifa pagada por el pasajero.\n",
        "\n",
        "cabin: Número de cabina del pasajero.\n",
        "\n",
        "embarked: Puerto de embarque, con tres\n",
        "\n",
        "opciones: C = Cherbourg, Q = Queenstown, S = Southampton.\n",
        "\n",
        "</p>\n"
      ],
      "metadata": {
        "id": "XYd1SbqEfnk3"
      }
    },
    {
      "cell_type": "code",
      "source": [
        "trading.info()"
      ],
      "metadata": {
        "colab": {
          "base_uri": "https://localhost:8080/"
        },
        "id": "Roc7ZP0kTcXp",
        "outputId": "a72b37ed-cd28-4415-f8ac-2ffea7ad9a53"
      },
      "execution_count": 26,
      "outputs": [
        {
          "output_type": "stream",
          "name": "stdout",
          "text": [
            "<class 'pandas.core.frame.DataFrame'>\n",
            "RangeIndex: 191 entries, 0 to 190\n",
            "Data columns (total 8 columns):\n",
            " #   Column          Non-Null Count  Dtype  \n",
            "---  ------          --------------  -----  \n",
            " 0   new_date        191 non-null    object \n",
            " 1   Fecha_tradeo    191 non-null    object \n",
            " 2   Volume_AAPL     191 non-null    int64  \n",
            " 3   Adj.Close_AAPL  191 non-null    float64\n",
            " 4   Open_AAPL       191 non-null    float64\n",
            " 5   High_AAPL       191 non-null    float64\n",
            " 6   Low_AAPL        191 non-null    float64\n",
            " 7   Close_AAPL      191 non-null    float64\n",
            "dtypes: float64(5), int64(1), object(2)\n",
            "memory usage: 12.1+ KB\n"
          ]
        }
      ]
    },
    {
      "cell_type": "code",
      "source": [
        "trading.columns"
      ],
      "metadata": {
        "colab": {
          "base_uri": "https://localhost:8080/"
        },
        "id": "1qW_GKBFL7P5",
        "outputId": "fc8f27dd-3772-4746-dfed-9cd01575ba52"
      },
      "execution_count": 27,
      "outputs": [
        {
          "output_type": "execute_result",
          "data": {
            "text/plain": [
              "Index(['new_date', 'Fecha_tradeo', 'Volume_AAPL', 'Adj.Close_AAPL',\n",
              "       'Open_AAPL', 'High_AAPL', 'Low_AAPL', 'Close_AAPL'],\n",
              "      dtype='object')"
            ]
          },
          "metadata": {},
          "execution_count": 27
        }
      ]
    },
    {
      "cell_type": "markdown",
      "source": [
        "Según el gráfico anterior, la clase 2 es la que tiene menos pasajeros, y la clase 3 es la que tiene más."
      ],
      "metadata": {
        "id": "PsIPpXIFpeB3"
      }
    },
    {
      "cell_type": "code",
      "source": [
        "#Distribución de la edad(age)\n",
        "sns.histplot(trading.Close_AAPL.dropna( ), kde=True)    # El True, permite ver la curva. Se hace un histograma porque la edad es una variable numérica, y el histograma es buena opción para mostrar distribuciones de variables numéricas\n",
        "plt.show( )"
      ],
      "metadata": {
        "colab": {
          "base_uri": "https://localhost:8080/",
          "height": 450
        },
        "id": "gysmbTGhepSx",
        "outputId": "f260be12-c36c-4148-b816-f86d3e6d0840"
      },
      "execution_count": 34,
      "outputs": [
        {
          "output_type": "display_data",
          "data": {
            "text/plain": [
              "<Figure size 640x480 with 1 Axes>"
            ],
            "image/png": "[encoded data removed]"
          },
          "metadata": {}
        }
      ]
    },
    {
      "cell_type": "markdown",
      "source": [
        "Los datos están más concentrados desde el 142 hasta los 157.\n",
        "\n",
        "A pesar de eso, se encuentra una desviación estandar hacia precios de cierre de AAPL mayores a 164 con una concentración considerable (hay una cantidad considerable de días en los que el precio estuvo entre 164 y 168).\n",
        "\n"
      ],
      "metadata": {
        "id": "j4sLJFRkqEnG"
      }
    },
    {
      "cell_type": "markdown",
      "source": [
        "Cada vela representa una clase, y se detectan valores anómalos en tercera clase y seugunda clase, tanto para el genero femenino como para el femenino.\n",
        "\n",
        "Los valores anómalos son menores en el genero femenino."
      ],
      "metadata": {
        "id": "pkVSiVdnrWTi"
      }
    },
    {
      "cell_type": "code",
      "source": [
        "#Distribución cruzada de Edad y Tarifa\n",
        "sns.jointplot(x='new_date',y='Close_AAPL',data=trading)"
      ],
      "metadata": {
        "colab": {
          "base_uri": "https://localhost:8080/",
          "height": 626
        },
        "id": "JlEDXU7AeuLB",
        "outputId": "be151edd-f5f5-426e-cc27-9bcdc281282b"
      },
      "execution_count": 37,
      "outputs": [
        {
          "output_type": "execute_result",
          "data": {
            "text/plain": [
              "<seaborn.axisgrid.JointGrid at 0x7c4b517032e0>"
            ]
          },
          "metadata": {},
          "execution_count": 37
        },
        {
          "output_type": "display_data",
          "data": {
            "text/plain": [
              "<Figure size 600x600 with 3 Axes>"
            ],
            "image/png": "[encoded data removed]"
          },
          "metadata": {}
        }
      ]
    },
    {
      "cell_type": "markdown",
      "source": [
        "<h1>Mapa de calor de las correlaciones</h1>"
      ],
      "metadata": {
        "id": "bPhc-i_W1hZG"
      }
    },
    {
      "cell_type": "code",
      "source": [
        "tc = trading.corr()\n",
        "tc"
      ],
      "metadata": {
        "colab": {
          "base_uri": "https://localhost:8080/",
          "height": 295
        },
        "id": "iIggRFJQRFty",
        "outputId": "87717c90-c1e6-4cda-a07f-b6e2a132732a"
      },
      "execution_count": 42,
      "outputs": [
        {
          "output_type": "stream",
          "name": "stderr",
          "text": [
            "<ipython-input-42-257df1773bb2>:1: FutureWarning: The default value of numeric_only in DataFrame.corr is deprecated. In a future version, it will default to False. Select only valid columns or specify the value of numeric_only to silence this warning.\n",
            "  tc = trading.corr()\n"
          ]
        },
        {
          "output_type": "execute_result",
          "data": {
            "text/plain": [
              "                Volume_AAPL  Adj.Close_AAPL  Open_AAPL  High_AAPL  Low_AAPL  \\\n",
              "Volume_AAPL        1.000000       -0.371636  -0.378959  -0.335874 -0.407309   \n",
              "Adj.Close_AAPL    -0.371636        1.000000   0.976971   0.991262  0.991328   \n",
              "Open_AAPL         -0.378959        0.976971   1.000000   0.990310  0.992086   \n",
              "High_AAPL         -0.335874        0.991262   0.990310   1.000000  0.992171   \n",
              "Low_AAPL          -0.407309        0.991328   0.992086   0.992171  1.000000   \n",
              "Close_AAPL        -0.364903        0.999770   0.977324   0.991873  0.991265   \n",
              "\n",
              "                Close_AAPL  \n",
              "Volume_AAPL      -0.364903  \n",
              "Adj.Close_AAPL    0.999770  \n",
              "Open_AAPL         0.977324  \n",
              "High_AAPL         0.991873  \n",
              "Low_AAPL          0.991265  \n",
              "Close_AAPL        1.000000  "
            ],
            "text/html": [
              "\n",
              "  <div id=\"df-beba6e2f-146f-4c35-a9a9-4e52f6a21fdf\" class=\"colab-df-container\">\n",
              "    <div>\n",
              "<style scoped>\n",
              "    .dataframe tbody tr th:only-of-type {\n",
              "        vertical-align: middle;\n",
              "    }\n",
              "\n",
              "    .dataframe tbody tr th {\n",
              "        vertical-align: top;\n",
              "    }\n",
              "\n",
              "    .dataframe thead th {\n",
              "        text-align: right;\n",
              "    }\n",
              "</style>\n",
              "<table border=\"1\" class=\"dataframe\">\n",
              "  <thead>\n",
              "    <tr style=\"text-align: right;\">\n",
              "      <th></th>\n",
              "      <th>Volume_AAPL</th>\n",
              "      <th>Adj.Close_AAPL</th>\n",
              "      <th>Open_AAPL</th>\n",
              "      <th>High_AAPL</th>\n",
              "      <th>Low_AAPL</th>\n",
              "      <th>Close_AAPL</th>\n",
              "    </tr>\n",
              "  </thead>\n",
              "  <tbody>\n",
              "    <tr>\n",
              "      <th>Volume_AAPL</th>\n",
              "      <td>1.000000</td>\n",
              "      <td>-0.371636</td>\n",
              "      <td>-0.378959</td>\n",
              "      <td>-0.335874</td>\n",
              "      <td>-0.407309</td>\n",
              "      <td>-0.364903</td>\n",
              "    </tr>\n",
              "    <tr>\n",
              "      <th>Adj.Close_AAPL</th>\n",
              "      <td>-0.371636</td>\n",
              "      <td>1.000000</td>\n",
              "      <td>0.976971</td>\n",
              "      <td>0.991262</td>\n",
              "      <td>0.991328</td>\n",
              "      <td>0.999770</td>\n",
              "    </tr>\n",
              "    <tr>\n",
              "      <th>Open_AAPL</th>\n",
              "      <td>-0.378959</td>\n",
              "      <td>0.976971</td>\n",
              "      <td>1.000000</td>\n",
              "      <td>0.990310</td>\n",
              "      <td>0.992086</td>\n",
              "      <td>0.977324</td>\n",
              "    </tr>\n",
              "    <tr>\n",
              "      <th>High_AAPL</th>\n",
              "      <td>-0.335874</td>\n",
              "      <td>0.991262</td>\n",
              "      <td>0.990310</td>\n",
              "      <td>1.000000</td>\n",
              "      <td>0.992171</td>\n",
              "      <td>0.991873</td>\n",
              "    </tr>\n",
              "    <tr>\n",
              "      <th>Low_AAPL</th>\n",
              "      <td>-0.407309</td>\n",
              "      <td>0.991328</td>\n",
              "      <td>0.992086</td>\n",
              "      <td>0.992171</td>\n",
              "      <td>1.000000</td>\n",
              "      <td>0.991265</td>\n",
              "    </tr>\n",
              "    <tr>\n",
              "      <th>Close_AAPL</th>\n",
              "      <td>-0.364903</td>\n",
              "      <td>0.999770</td>\n",
              "      <td>0.977324</td>\n",
              "      <td>0.991873</td>\n",
              "      <td>0.991265</td>\n",
              "      <td>1.000000</td>\n",
              "    </tr>\n",
              "  </tbody>\n",
              "</table>\n",
              "</div>\n",
              "    <div class=\"colab-df-buttons\">\n",
              "\n",
              "  <div class=\"colab-df-container\">\n",
              "    <button class=\"colab-df-convert\" onclick=\"convertToInteractive('df-beba6e2f-146f-4c35-a9a9-4e52f6a21fdf')\"\n",
              "            title=\"Convert this dataframe to an interactive table.\"\n",
              "            style=\"display:none;\">\n",
              "\n",
              "  <svg xmlns=\"http://www.w3.org/2000/svg\" height=\"24px\" viewBox=\"0 -960 960 960\">\n",
              "    <path d=\"M120-120v-720h720v720H120Zm60-500h600v-160H180v160Zm220 220h160v-160H400v160Zm0 220h160v-160H400v160ZM180-400h160v-160H180v160Zm440 0h160v-160H620v160ZM180-180h160v-160H180v160Zm440 0h160v-160H620v160Z\"/>\n",
              "  </svg>\n",
              "    </button>\n",
              "\n",
              "  <style>\n",
              "    .colab-df-container {\n",
              "      display:flex;\n",
              "      gap: 12px;\n",
              "    }\n",
              "\n",
              "    .colab-df-convert {\n",
              "      background-color: #E8F0FE;\n",
              "      border: none;\n",
              "      border-radius: 50%;\n",
              "      cursor: pointer;\n",
              "      display: none;\n",
              "      fill: #1967D2;\n",
              "      height: 32px;\n",
              "      padding: 0 0 0 0;\n",
              "      width: 32px;\n",
              "    }\n",
              "\n",
              "    .colab-df-convert:hover {\n",
              "      background-color: #E2EBFA;\n",
              "      box-shadow: 0px 1px 2px rgba(60, 64, 67, 0.3), 0px 1px 3px 1px rgba(60, 64, 67, 0.15);\n",
              "      fill: #174EA6;\n",
              "    }\n",
              "\n",
              "    .colab-df-buttons div {\n",
              "      margin-bottom: 4px;\n",
              "    }\n",
              "\n",
              "    [theme=dark] .colab-df-convert {\n",
              "      background-color: #3B4455;\n",
              "      fill: #D2E3FC;\n",
              "    }\n",
              "\n",
              "    [theme=dark] .colab-df-convert:hover {\n",
              "      background-color: #434B5C;\n",
              "      box-shadow: 0px 1px 3px 1px rgba(0, 0, 0, 0.15);\n",
              "      filter: drop-shadow(0px 1px 2px rgba(0, 0, 0, 0.3));\n",
              "      fill: #FFFFFF;\n",
              "    }\n",
              "  </style>\n",
              "\n",
              "    <script>\n",
              "      const buttonEl =\n",
              "        document.querySelector('#df-beba6e2f-146f-4c35-a9a9-4e52f6a21fdf button.colab-df-convert');\n",
              "      buttonEl.style.display =\n",
              "        google.colab.kernel.accessAllowed ? 'block' : 'none';\n",
              "\n",
              "      async function convertToInteractive(key) {\n",
              "        const element = document.querySelector('#df-beba6e2f-146f-4c35-a9a9-4e52f6a21fdf');\n",
              "        const dataTable =\n",
              "          await google.colab.kernel.invokeFunction('convertToInteractive',\n",
              "                                                    [key], {});\n",
              "        if (!dataTable) return;\n",
              "\n",
              "        const docLinkHtml = 'Like what you see? Visit the ' +\n",
              "          '<a target=\"_blank\" href=https://colab.research.google.com/notebooks/data_table.ipynb>data table notebook</a>'\n",
              "          + ' to learn more about interactive tables.';\n",
              "        element.innerHTML = '';\n",
              "        dataTable['output_type'] = 'display_data';\n",
              "        await google.colab.output.renderOutput(dataTable, element);\n",
              "        const docLink = document.createElement('div');\n",
              "        docLink.innerHTML = docLinkHtml;\n",
              "        element.appendChild(docLink);\n",
              "      }\n",
              "    </script>\n",
              "  </div>\n",
              "\n",
              "\n",
              "<div id=\"df-17758fc8-fcd1-4b19-9871-d5362ba46e62\">\n",
              "  <button class=\"colab-df-quickchart\" onclick=\"quickchart('df-17758fc8-fcd1-4b19-9871-d5362ba46e62')\"\n",
              "            title=\"Suggest charts\"\n",
              "            style=\"display:none;\">\n",
              "\n",
              "<svg xmlns=\"http://www.w3.org/2000/svg\" height=\"24px\"viewBox=\"0 0 24 24\"\n",
              "     width=\"24px\">\n",
              "    <g>\n",
              "        <path d=\"M19 3H5c-1.1 0-2 .9-2 2v14c0 1.1.9 2 2 2h14c1.1 0 2-.9 2-2V5c0-1.1-.9-2-2-2zM9 17H7v-7h2v7zm4 0h-2V7h2v10zm4 0h-2v-4h2v4z\"/>\n",
              "    </g>\n",
              "</svg>\n",
              "  </button>\n",
              "\n",
              "<style>\n",
              "  .colab-df-quickchart {\n",
              "      --bg-color: #E8F0FE;\n",
              "      --fill-color: #1967D2;\n",
              "      --hover-bg-color: #E2EBFA;\n",
              "      --hover-fill-color: #174EA6;\n",
              "      --disabled-fill-color: #AAA;\n",
              "      --disabled-bg-color: #DDD;\n",
              "  }\n",
              "\n",
              "  [theme=dark] .colab-df-quickchart {\n",
              "      --bg-color: #3B4455;\n",
              "      --fill-color: #D2E3FC;\n",
              "      --hover-bg-color: #434B5C;\n",
              "      --hover-fill-color: #FFFFFF;\n",
              "      --disabled-bg-color: #3B4455;\n",
              "      --disabled-fill-color: #666;\n",
              "  }\n",
              "\n",
              "  .colab-df-quickchart {\n",
              "    background-color: var(--bg-color);\n",
              "    border: none;\n",
              "    border-radius: 50%;\n",
              "    cursor: pointer;\n",
              "    display: none;\n",
              "    fill: var(--fill-color);\n",
              "    height: 32px;\n",
              "    padding: 0;\n",
              "    width: 32px;\n",
              "  }\n",
              "\n",
              "  .colab-df-quickchart:hover {\n",
              "    background-color: var(--hover-bg-color);\n",
              "    box-shadow: 0 1px 2px rgba(60, 64, 67, 0.3), 0 1px 3px 1px rgba(60, 64, 67, 0.15);\n",
              "    fill: var(--button-hover-fill-color);\n",
              "  }\n",
              "\n",
              "  .colab-df-quickchart-complete:disabled,\n",
              "  .colab-df-quickchart-complete:disabled:hover {\n",
              "    background-color: var(--disabled-bg-color);\n",
              "    fill: var(--disabled-fill-color);\n",
              "    box-shadow: none;\n",
              "  }\n",
              "\n",
              "  .colab-df-spinner {\n",
              "    border: 2px solid var(--fill-color);\n",
              "    border-color: transparent;\n",
              "    border-bottom-color: var(--fill-color);\n",
              "    animation:\n",
              "      spin 1s steps(1) infinite;\n",
              "  }\n",
              "\n",
              "  @keyframes spin {\n",
              "    0% {\n",
              "      border-color: transparent;\n",
              "      border-bottom-color: var(--fill-color);\n",
              "      border-left-color: var(--fill-color);\n",
              "    }\n",
              "    20% {\n",
              "      border-color: transparent;\n",
              "      border-left-color: var(--fill-color);\n",
              "      border-top-color: var(--fill-color);\n",
              "    }\n",
              "    30% {\n",
              "      border-color: transparent;\n",
              "      border-left-color: var(--fill-color);\n",
              "      border-top-color: var(--fill-color);\n",
              "      border-right-color: var(--fill-color);\n",
              "    }\n",
              "    40% {\n",
              "      border-color: transparent;\n",
              "      border-right-color: var(--fill-color);\n",
              "      border-top-color: var(--fill-color);\n",
              "    }\n",
              "    60% {\n",
              "      border-color: transparent;\n",
              "      border-right-color: var(--fill-color);\n",
              "    }\n",
              "    80% {\n",
              "      border-color: transparent;\n",
              "      border-right-color: var(--fill-color);\n",
              "      border-bottom-color: var(--fill-color);\n",
              "    }\n",
              "    90% {\n",
              "      border-color: transparent;\n",
              "      border-bottom-color: var(--fill-color);\n",
              "    }\n",
              "  }\n",
              "</style>\n",
              "\n",
              "  <script>\n",
              "    async function quickchart(key) {\n",
              "      const quickchartButtonEl =\n",
              "        document.querySelector('#' + key + ' button');\n",
              "      quickchartButtonEl.disabled = true;  // To prevent multiple clicks.\n",
              "      quickchartButtonEl.classList.add('colab-df-spinner');\n",
              "      try {\n",
              "        const charts = await google.colab.kernel.invokeFunction(\n",
              "            'suggestCharts', [key], {});\n",
              "      } catch (error) {\n",
              "        console.error('Error during call to suggestCharts:', error);\n",
              "      }\n",
              "      quickchartButtonEl.classList.remove('colab-df-spinner');\n",
              "      quickchartButtonEl.classList.add('colab-df-quickchart-complete');\n",
              "    }\n",
              "    (() => {\n",
              "      let quickchartButtonEl =\n",
              "        document.querySelector('#df-17758fc8-fcd1-4b19-9871-d5362ba46e62 button');\n",
              "      quickchartButtonEl.style.display =\n",
              "        google.colab.kernel.accessAllowed ? 'block' : 'none';\n",
              "    })();\n",
              "  </script>\n",
              "</div>\n",
              "    </div>\n",
              "  </div>\n"
            ]
          },
          "metadata": {},
          "execution_count": 42
        }
      ]
    },
    {
      "cell_type": "code",
      "source": [
        "\n",
        "sns.heatmap(tc,cmap='coolwarm')    # heatmap debe recibir los datos con correlación. coolwarm Añade lógica de temperatura, entre más rojo, mayor la correlación positiva y entre más azul, mayor la correlación negativa\n",
        "plt.title('trading.corr()')"
      ],
      "metadata": {
        "colab": {
          "base_uri": "https://localhost:8080/",
          "height": 578
        },
        "id": "zcZBatuNe8US",
        "outputId": "72f40427-fdc7-4526-a819-7c45f570c697"
      },
      "execution_count": 43,
      "outputs": [
        {
          "output_type": "execute_result",
          "data": {
            "text/plain": [
              "Text(0.5, 1.0, 'trading.corr()')"
            ]
          },
          "metadata": {},
          "execution_count": 43
        },
        {
          "output_type": "display_data",
          "data": {
            "text/plain": [
              "<Figure size 640x480 with 2 Axes>"
            ],
            "image/png": "[encoded data removed]"
          },
          "metadata": {}
        }
      ]
    },
    {
      "cell_type": "markdown",
      "source": [
        "Se puede observar que todos los precios tienen una correlación fuerte positiva, y esto se debe a que normalmente la varaición de los precios sigue una distribución normal, por lo cual, si un precio baja o sube , el precio de cierre no será muy diferente al precio de apertura en el día corresondiente. Lo mismo sucede con las demás variables relacionadas al precio con las cuales se hizo el diagrama de velas. Esta distribución normal permite aplicar distintos métodos de predicción de variación en los precios como simulación montecarlo, entre otras.\n",
        "\n"
      ],
      "metadata": {
        "id": "UNrac4CG23uT"
      }
    },
    {
      "cell_type": "markdown",
      "source": [
        "LINK DE GOOGLE COLLAB:\n",
        "https://colab.research.google.com/drive/1XjDJeShA0lqwKMVCUAWiZX3gZfVgk477?usp=sharing\n",
        "\n",
        "LINK DE GIT-HUB:\n",
        "https://github.com/andru-brahian/7_D3_javascript_html_googlesheet_powerBI"
      ],
      "metadata": {
        "id": "xk4ZxEyd-ImG"
      }
    },
    {
      "cell_type": "code",
      "source": [],
      "metadata": {
        "id": "BwtFYj-qKp-0"
      },
      "execution_count": null,
      "outputs": []
    },
    {
      "cell_type": "code",
      "source": [],
      "metadata": {
        "id": "rLJc_A_V-GAq"
      },
      "execution_count": null,
      "outputs": []
    }
  ]
}